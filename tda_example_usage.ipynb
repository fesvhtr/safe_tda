{
 "cells": [
  {
   "cell_type": "code",
   "execution_count": null,
   "id": "initial_id",
   "metadata": {
    "collapsed": true
   },
   "outputs": [],
   "source": [
    "# TODO: use functions in tda_compute.py to compute persistence intervals and betti curves\n",
    "\n",
    "import os\n",
    "import json\n",
    "import numpy as np\n",
    "import matplotlib.pyplot as plt\n",
    "from tda.compute import *\n",
    "# --- Example Usage ---\n",
    "# 1. Create sample data\n",
    "num_points = 20\n",
    "radius = 1.0\n",
    "angles = np.linspace(0, 2 * np.pi, num_points, endpoint=False)\n",
    "sample_points = np.array([[radius * np.cos(a), radius * np.sin(a)] for a in angles])\n",
    "sample_points += np.random.normal(scale=0.1, size=sample_points.shape)\n",
    "print(\"Generated Sample Point Cloud (first 5 points):\\n\", sample_points[:5])\n",
    "print(\"-\" * 30)\n",
    "\n",
    "# 2. Compute Persistence using the function\n",
    "max_filt_scale = 1.5\n",
    "max_hom_dim = 2 # Compute H0, H1    \n",
    "\n",
    "persistence_intervals, st = compute_persistence(sample_points,\n",
    "                                                max_edge_length=max_filt_scale,\n",
    "                                                max_dimension=max_hom_dim)\n",
    "\n",
    "print(\"\\nComputed Persistence Intervals:\")\n",
    "# Handle potential empty persistence list\n",
    "if persistence_intervals:\n",
    "    for dim, (birth, death) in persistence_intervals:\n",
    "        death_str = f\"{death:.4f}\" if not np.isinf(death) else \"inf\"\n",
    "        print(f\"  Dim {dim}: [{birth:.4f}, {death_str})\")\n",
    "else:\n",
    "    print(\"  No persistence intervals computed.\")\n",
    "print(\"-\" * 30)\n",
    "\n",
    "# 3. Plot Persistence Diagram\n",
    "if persistence_intervals:\n",
    "    plot_persistence_diagram(persistence_intervals)\n",
    "else:\n",
    "    print(\"Skipping persistence diagram plot (no intervals).\")\n",
    "\n",
    "\n",
    "# 4. Compute and Plot Betti Curves\n",
    "threshold_values = np.linspace(0, max_filt_scale, 100)\n",
    "betti_data = compute_betti_curves(st, persistence_intervals, threshold_values)\n",
    "plot_betti_curves(threshold_values, betti_data)\n",
    "\n",
    "print(\"\\nAnalysis complete.\")"
   ]
  }
 ],
 "metadata": {
  "kernelspec": {
   "display_name": "Python 3",
   "language": "python",
   "name": "python3"
  },
  "language_info": {
   "codemirror_mode": {
    "name": "ipython",
    "version": 2
   },
   "file_extension": ".py",
   "mimetype": "text/x-python",
   "name": "python",
   "nbconvert_exporter": "python",
   "pygments_lexer": "ipython2",
   "version": "2.7.6"
  }
 },
 "nbformat": 4,
 "nbformat_minor": 5
}
